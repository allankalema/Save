{
 "cells": [
  {
   "cell_type": "markdown",
   "metadata": {
    "id": "cGw4dghPSmk4"
   },
   "source": [
    "**KALEMA ALLAN 2200703155 22/U/3155/EVE**"
   ]
  },
  {
   "cell_type": "markdown",
   "metadata": {
    "id": "OFtlxU-ERv4x"
   },
   "source": [
    "A large retail company relies on a Python-based application to manage and track product information, sales, and customer interactions. The software development team is responsible for maintaining this application and ensuring it performs reliably and securely even as new features are added.\n",
    "a)\tWrite Python code that uses multiple classes to perform basic calculations and apply discounts to product prices. Briefly describe and generate Python code and explain the purpose of using inheritance and encapsulation in these classes. Use the last two values of your student number as the input for variables in Product to showcase expected outputs.\n"
   ]
  },
  {
   "cell_type": "code",
   "execution_count": 1,
   "metadata": {
    "colab": {
     "base_uri": "https://localhost:8080/"
    },
    "id": "dlMqzyJrRu-P",
    "outputId": "3c28f5ff-2e5d-4bd0-8a3c-fb998cb3cb11"
   },
   "outputs": [
    {
     "name": "stdout",
     "output_type": "stream",
     "text": [
      "ID: 1, Name: Phone, Price: $2000000.00\n",
      "Original Price: UGX2000000.00\n",
      "Price after discount: UGX900000.00\n",
      "ID: 2, Name: Charger, Price: $50000.00\n",
      "Original Price: UGX50000.00\n",
      "Price after discount: UGX22500.00\n",
      "ID: 3, Name: Earbuds, Price: $40000.00\n",
      "Original Price: UGX40000.00\n",
      "Price after discount: UGX18000.00\n"
     ]
    }
   ],
   "source": [
    "class Product:\n",
    "    def __init__(self, id, name, price, discount_rate=0):\n",
    "        self._id = id  # Encapsulation: \n",
    "        self._name = name\n",
    "        self._price = price\n",
    "        self._discount_rate = discount_rate\n",
    "\n",
    "    def get_price(self):\n",
    "        return self._price\n",
    "\n",
    "    def get_discount_price(self):\n",
    "        # Apply discount by subtracting a fixed percentage (discount rate)\n",
    "        discount_amount = (self._discount_rate / 100) * self._price\n",
    "        return self._price - discount_amount\n",
    "\n",
    "    def __str__(self):\n",
    "        return f\"ID: {self._id}, Name: {self._name}, Price: ${self._price:.2f}\"\n",
    "\n",
    "\n",
    "class DiscountedProduct(Product):  # Inheritance: DiscountedProduct inherits from Product\n",
    "    def __init__(self, id, name, price, discount_rate):\n",
    "        super().__init__(id, name, price, discount_rate)\n",
    "\n",
    "    def get_discount_price(self):\n",
    "        discounted_price = super().get_discount_price()\n",
    "        return discounted_price\n",
    "\n",
    "\n",
    "student_number= 55  # Student number acts as discount percentage\n",
    "product1 = Product(1, \"Phone\", 2000000, student_number)\n",
    "print(product1)\n",
    "print(f\"Original Price: UGX{product1.get_price():.2f}\")\n",
    "print(f\"Price after discount: UGX{product1.get_discount_price():.2f}\")\n",
    "\n",
    "product2 = DiscountedProduct(2, \"Charger\", 50000, student_number)\n",
    "print(product2)\n",
    "print(f\"Original Price: UGX{product2.get_price():.2f}\")\n",
    "print(f\"Price after discount: UGX{product2.get_discount_price():.2f}\")\n",
    "\n",
    "# Example with another product\n",
    "product3 = DiscountedProduct(3, \"Earbuds\", 40000, student_number)\n",
    "print(product3)\n",
    "print(f\"Original Price: UGX{product3.get_price():.2f}\")\n",
    "print(f\"Price after discount: UGX{product3.get_discount_price():.2f}\")\n"
   ]
  },
  {
   "cell_type": "markdown",
   "metadata": {
    "id": "p0U237PhS4BO"
   },
   "source": [
    "the purpose of using inheritance and encapsulation in these classes\n",
    "\n",
    "**1. Inheritance**\n",
    "The concept of inheritance allows the class DiscountedProduct to reuse and extend the behavior of class Product without duplication of code.\n",
    "\n",
    "Class DiscountedProduct is inheriting from class Product via super(). To put it in other words, DiscountedProduct has access to __product_id, __name, and __price from the class Product, and to get_product_details() and get_price() methods.\n",
    "\n",
    "Inheritance helps establish a logical hierarchy and encourages code reusability to avoid redundancy. In this case, DiscountedProduct will need to implement only the additional logic of a discount without rewriting the basic attributes or methods from Product.\n",
    "\n",
    "**2. Encapsulation**\n",
    "The purpose of encapsulation is to protect the internal state of an object by allowing modifications or access to it only through the defined methods.\n",
    "\n",
    "The __product_id, __name, and __price attributes in the Product class are double underscore-prefixed, hence private attributes. This prevents any kind of access from outside the class and protects the data of the object.\n",
    "Methods like get_price() and get_product_details() serve as controlled means to access or expose the encapsulated data to the extent that data integrity is ensured.\n",
    "\n",
    "The most important advantage of encapsulation is that the accidental modification or unauthorized modification of data avoids maintenance of data integrity and security.\n"
   ]
  },
  {
   "cell_type": "markdown",
   "metadata": {
    "id": "HBYyMXtkUAi0"
   },
   "source": [
    "b)\tWith the help of a code snippet in relation to the case scenario above Explain the importance of regression testing in ensuring that the application remains stable with continuous updates, especially in critical modules such as data processing and price management.\n",
    "\n",
    "**Answer**\n",
    "\n",
    "Regression testing ensures that new updates or changes to the software do not break existing functionalities, especially in critical modules like data processing and price management. This type of testing helps maintain the stability and reliability of the application when new features or changes are added."
   ]
  },
  {
   "cell_type": "code",
   "execution_count": null,
   "metadata": {
    "colab": {
     "base_uri": "https://localhost:8080/"
    },
    "id": "Jn2_mkB4Upnk",
    "outputId": "5cca3709-e4f9-4a63-a6f7-94cd1485d1cc"
   },
   "outputs": [
    {
     "name": "stderr",
     "output_type": "stream",
     "text": [
      ".....\n",
      "----------------------------------------------------------------------\n",
      "Ran 5 tests in 0.011s\n",
      "\n",
      "OK\n"
     ]
    }
   ],
   "source": [
    "import unittest\n",
    "\n",
    "class TestDiscountedProduct(unittest.TestCase):\n",
    "    def test_apply_discount(self):\n",
    "        product = DiscountedProduct(1, \"Phone\", 2000000, 15)  # 15% discount\n",
    "        self.assertEqual(product.get_discount_price(), 1700000)\n",
    "\n",
    "    def test_no_discount(self):\n",
    "        product = DiscountedProduct(2, \"Bag\", 35000, 0)\n",
    "        self.assertEqual(product.get_discount_price(), 35000)\n",
    "\n",
    "class TestProduct(unittest.TestCase):\n",
    "    def test_product_price(self):\n",
    "        product = Product(1, \"Shoes\", 60000)\n",
    "        self.assertEqual(product.get_price(), 60000)\n",
    "\n",
    "    def test_discounted_product_price(self):\n",
    "        product = DiscountedProduct(2, \"Tablet\", 200000, 10)  # 10% discount\n",
    "        self.assertEqual(product.get_discount_price(), 180000)\n",
    "\n",
    "    def test_another_discounted_product(self):\n",
    "        product = DiscountedProduct(3, \"Mouse\", 100000, 20)  # 20% discount\n",
    "        self.assertEqual(product.get_discount_price(), 80000)\n",
    "\n",
    "if __name__ == '__main__':\n",
    "    unittest.main(argv=['first-arg-is-ignored'], exit=False)\n"
   ]
  },
  {
   "cell_type": "markdown",
   "metadata": {
    "id": "d8hx135Pil5V"
   },
   "source": [
    "Regression testing will ensure that any new update or change in the application does not affect the already working application, which is pretty essential in maintaining stability in critical modules related to data processing or price management.\n",
    "\n",
    "-Prevents Bugs\n",
    "\n",
    "-Ensures Data Integrity\n",
    "\n",
    "-Preserves Performance\n",
    "\n"
   ]
  },
  {
   "cell_type": "markdown",
   "metadata": {
    "id": "3EyU7_a2Z0-l"
   },
   "source": [
    "c)\tRewrite the code for the scenario above to include visualization using libraries like Matplotlib or Plotly. Visualize both input and output data for an item’s price before and after a discount is applied."
   ]
  },
  {
   "cell_type": "code",
   "execution_count": null,
   "metadata": {
    "colab": {
     "base_uri": "https://localhost:8080/",
     "height": 728
    },
    "id": "ZHL-TEysWltf",
    "outputId": "467916d2-96b7-4240-e815-9e23e6afdaf5"
   },
   "outputs": [
    {
     "name": "stdout",
     "output_type": "stream",
     "text": [
      "ID: 1, Name: Laptop, Price: $1200.00\n",
      "Original Price: $1200.00\n",
      "Price after discount: $312.00\n",
      "ID: 2, Name: Tablet, Price: $300.00\n",
      "Original Price: $300.00\n",
      "Price after discount: $78.00\n",
      "ID: 3, Name: Mouse, Price: $25.00\n",
      "Original Price: $25.00\n",
      "Price after discount: $6.50\n"
     ]
    },
    {
     "data": {
      "image/png": "[encoded data removed]",
      "text/plain": [
       "<Figure size 1000x600 with 1 Axes>"
      ]
     },
     "metadata": {},
     "output_type": "display_data"
    }
   ],
   "source": [
    "import matplotlib.pyplot as plt\n",
    "\n",
    "class Product:\n",
    "    def __init__(self, id, name, price, discount_rate=0):\n",
    "        self._id = id\n",
    "        self._name = name\n",
    "        self._price = price\n",
    "        self._discount_rate = discount_rate\n",
    "\n",
    "    def get_price(self):\n",
    "        return self._price\n",
    "\n",
    "    def get_discount_price(self):\n",
    "        discount_amount = (self._discount_rate / 100) * self._price\n",
    "        return self._price - discount_amount\n",
    "\n",
    "    def __str__(self):\n",
    "        return f\"ID: {self._id}, Name: {self._name}, Price: UGX{self._price:.2f}\"\n",
    "\n",
    "\n",
    "class DiscountedProduct(Product):\n",
    "    def __init__(self, id, name, price, discount_rate):\n",
    "        super().__init__(id, name, price, discount_rate)\n",
    "\n",
    "    def get_discount_price(self):\n",
    "        discounted_price = super().get_discount_price()\n",
    "        return discounted_price\n",
    "\n",
    "\n",
    "# Visualization\n",
    "def visualize_prices(products):\n",
    "    names = [product._name for product in products]\n",
    "    original_prices = [product.get_price() for product in products]\n",
    "    discounted_prices = [product.get_discount_price() for product in products]\n",
    "\n",
    "    x = range(len(products))\n",
    "\n",
    "    plt.figure(figsize=(10, 6))\n",
    "    plt.bar(x, original_prices, width=0.4, label='Original Price', color='blue')\n",
    "    plt.bar([i + 0.4 for i in x], discounted_prices, width=0.4, label='Discounted Price', color='green')\n",
    "\n",
    "    plt.xlabel('Products')\n",
    "    plt.ylabel('Price ($)')\n",
    "    plt.title('Comparison of Initial and Discounted Prices')\n",
    "    plt.xticks([i + 0.2 for i in x], names)\n",
    "    plt.legend()\n",
    "    plt.show()\n",
    "\n",
    "\n",
    "# Example usage\n",
    "student_number_part = 74  # Student number part for discount rate\n",
    "\n",
    "product1 = DiscountedProduct(1, \"Phone\", 1000000, student_number_part)\n",
    "product2 = DiscountedProduct(2, \"bag\", 70000, student_number_part)\n",
    "product3 = DiscountedProduct(3, \"Shoes\", 50000, student_number_part)\n",
    "\n",
    "products = [product1, product2, product3]\n",
    "\n",
    "# Display product information\n",
    "for product in products:\n",
    "    print(product)\n",
    "    print(f\"Original Price: UGX{product.get_price():.2f}\")\n",
    "    print(f\"Price after discount: UGX{product.get_discount_price():.2f}\")\n",
    "\n",
    "# Visualize the data\n",
    "visualize_prices(products)\n"
   ]
  },
  {
   "cell_type": "markdown",
   "metadata": {
    "id": "whwpTHYsaQbV"
   },
   "source": [
    "**QUESTION 2**"
   ]
  },
  {
   "cell_type": "markdown",
   "metadata": {
    "id": "l6LWzv2UbMVL"
   },
   "source": [
    "Based on the scenario above the retail company’s software development team is tasked with creating a secure e-commerce site using Django. They are concerned about security threats common to web applications, including session hijacking, cross-site scripting, SQL injection, buffer overflows, and CSRF.\n",
    "a)\tBriefly explain with the help of simple code snippets with relation to the case scenario the following Object-Oriented Programming concepts and their importance in structuring code for large applications:\t\t\t\t\t(20 Marks)\n",
    "i.\tInheritance\n",
    "ii.\tEncapsulation\n",
    "iii.\tPolymorphism\n"
   ]
  },
  {
   "cell_type": "markdown",
   "metadata": {
    "id": "aOKK6qBgbfaZ"
   },
   "source": [
    "i. Inheritance\n",
    "\n",
    " Inheritance allows a class to inherit properties and methods from a parent class. This promotes code reusability and a hierarchical structure, which is essential for organizing complex applications.\n",
    "\n",
    "for Example :The retail company has different types of users (customers and administrators) who share some common properties but also have specific differences."
   ]
  },
  {
   "cell_type": "code",
   "execution_count": null,
   "metadata": {
    "colab": {
     "base_uri": "https://localhost:8080/"
    },
    "id": "tM-aBzLWbmhr",
    "outputId": "848d6641-e8f6-4a76-d5fd-b6a804b78ee8"
   },
   "outputs": [
    {
     "name": "stdout",
     "output_type": "stream",
     "text": [
      "john_doe logged in.\n",
      "Purchase history for john_doe: ['item1', 'item2']\n",
      "admin_user logged in.\n",
      "Admin admin_user is managing the site with level 5\n"
     ]
    }
   ],
   "source": [
    "# Parent class\n",
    "class User: #parent class\n",
    "    def __init__(self, username, email):\n",
    "        self.username = username\n",
    "        self.email = email\n",
    "\n",
    "    def login(self):\n",
    "        print(f\"{self.username} logged in.\")\n",
    "\n",
    "# Child class\n",
    "class Customer(User):\n",
    "    def __init__(self, username, email, purchase_history):\n",
    "        super().__init__(username, email)\n",
    "        self.purchase_history = purchase_history\n",
    "\n",
    "    def view_purchase_history(self):\n",
    "        print(f\"Purchase history for {self.username}: {self.purchase_history}\")\n",
    "\n",
    "# Derived class for an administrator\n",
    "class Admin(User):\n",
    "    def __init__(self, username, email, admin_level):\n",
    "        super().__init__(username, email)\n",
    "        self.admin_level = admin_level\n",
    "\n",
    "    def manage_site(self):\n",
    "        print(f\"Admin {self.username} is managing the site with level {self.admin_level}\")\n",
    "\n",
    "# Usage\n",
    "customer = Customer(\"Chance Nalubega\", \"chance@example.com\", [\"prduct1\", \"product2\"])\n",
    "admin = Admin(\"admin_user\", \"luke@gmail.com@example.com\", 5)\n",
    "\n",
    "customer.login()  # Inherited from User\n",
    "customer.view_purchase_history()\n",
    "admin.login()     # Inherited from User\n",
    "admin.manage_site()\n"
   ]
  },
  {
   "cell_type": "markdown",
   "metadata": {
    "id": "PjHwf4wBbsRX"
   },
   "source": [
    "ii. Encapsulation\n",
    "\n",
    "\n",
    "Encapsulation restricts direct access to some of an object's components, which helps to prevent accidental data modification. This concept is key for maintaining data integrity and security in applications.\n",
    "\n",
    "For Example Customer passwords should not be accessible or modifiable directly to prevent security issues."
   ]
  },
  {
   "cell_type": "code",
   "execution_count": null,
   "metadata": {
    "colab": {
     "base_uri": "https://localhost:8080/"
    },
    "id": "rDrpoG08b2lq",
    "outputId": "98137d8e-9ebe-4d67-df13-263102ee4487"
   },
   "outputs": [
    {
     "name": "stdout",
     "output_type": "stream",
     "text": [
      "john_doe logged in.\n",
      "Password changed successfully.\n",
      "john_doe logged in.\n"
     ]
    }
   ],
   "source": [
    "class Customer:\n",
    "    def __init__(self, username, email, password):\n",
    "        self.username = username\n",
    "        self.email = email\n",
    "        self.__password = password  # Private attribute\n",
    "\n",
    "    def change_password(self, old_password, new_password):\n",
    "        if old_password == self.__password:\n",
    "            self.__password = new_password #encapsulation\n",
    "            print(\"Password changed successfully.\")\n",
    "        else:\n",
    "            print(\"Old password is incorrect.\")\n",
    "\n",
    "    def login(self, input_password):\n",
    "        if input_password == self.__password:\n",
    "            print(f\"{self.username} logged in.\")\n",
    "        else:\n",
    "            print(\"Invalid password.\")\n",
    "\n",
    "# Usage\n",
    "customer = Customer(\"Kalema Allan\", \"allankalema@example.com\", \"alan@256\")\n",
    "customer.login(\"alan@256\")  # Correct password\n",
    "customer.change_password(\"alan@256\", \"alan@256\")\n",
    "customer.login(\"new_secure456\")  # Updated password\n"
   ]
  },
  {
   "cell_type": "markdown",
   "metadata": {
    "id": "ZcaOnkhBcP2Z"
   },
   "source": [
    "iii. Polymorphism\n",
    "\n",
    "Polymorphism allows different classes to be treated as instances of the same class through a common interface. This is useful for designing flexible and easily expandable code.\n",
    "\n",
    "For example: Both customers and admins should have a login method, but each can have slightly different implementations to suit their roles."
   ]
  },
  {
   "cell_type": "code",
   "execution_count": 26,
   "metadata": {
    "colab": {
     "base_uri": "https://localhost:8080/"
    },
    "id": "mxPeMN5_cbYg",
    "outputId": "2b2a0be8-cd84-4a81-9cfd-c6098efd73d3"
   },
   "outputs": [
    {
     "name": "stdout",
     "output_type": "stream",
     "text": [
      "Customer logged in with customer portal.\n",
      "Admin logged in with admin privileges.\n"
     ]
    }
   ],
   "source": [
    "# Base class\n",
    "class User:\n",
    "    def login(self):\n",
    "        raise NotImplementedError(\"Subclasses must implement this method.\")\n",
    "\n",
    "# Customer class\n",
    "class Customer(User):\n",
    "    def login(self):\n",
    "        print(\"Customer logged in with customer portal.\")\n",
    "\n",
    "# Admin class\n",
    "class Admin(User):\n",
    "    def login(self):\n",
    "        print(\"Admin logged in with admin privileges.\")\n",
    "\n",
    "# A function demonstrating polymorphism\n",
    "def authenticate_user(user):\n",
    "    user.login()\n",
    "\n",
    "# Usage\n",
    "customer = Customer()\n",
    "admin = Admin()\n",
    "\n",
    "authenticate_user(customer)\n",
    "authenticate_user(admin)\n"
   ]
  },
  {
   "cell_type": "markdown",
   "metadata": {
    "id": "3-qTp1fAcmVp"
   },
   "source": [
    "b)\tDevelop Django code snippets to demonstrate a secure design using the MVC framework. Make sure you Use Django’s built-in functions and best practices to show how these vulnerabilities can be mitigated. \t\t\t\t(30 Marks)\n",
    "o\tSecurity Aspects to Address:\n",
    "1.\tSession Hijacking – Implement Django’s SESSION_COOKIE_SECURE and SESSION_EXPIRE_AT_BROWSER_CLOSE settings to limit session exposure. Use secure cookie settings and session expiry.\n",
    "2.\tCross-Site Scripting (XSS) – Show how to use Django’s autoescape functionality in templates to prevent XSS.  Sanitize all inputs and use Django’s {{ variable|safe }} sparingly.\n",
    "3.\tSQL Injection – Use Django ORM’s parameterized queries to avoid SQL injection. Explain and show how the Django ORM helps prevent direct SQL injections.\n",
    "4.\tBuffer Overflows – Although Python limits direct buffer overflow attacks, show input validation techniques to prevent excessive data handling.\n",
    "5.\tCSRF (Cross-site Request Forgery) – Enable Django’s CSRF protection middleware. Illustrate using Django’s CSRF token protection.\n"
   ]
  },
  {
   "cell_type": "markdown",
   "metadata": {
    "id": "YABwvORzc4GX"
   },
   "source": [
    "1. Session Hijacking\n",
    "\n",
    "Session hijacking occurs when an attacker steals or predicts a valid session ID to impersonate a user. To mitigate this, you can use Django's session settings like SESSION_COOKIE_SECURE and SESSION_EXPIRE_AT_BROWSER_CLOSE to make sessions more secure."
   ]
  },
  {
   "cell_type": "code",
   "execution_count": 27,
   "metadata": {
    "id": "7ACQA-iLdT13"
   },
   "outputs": [],
   "source": [
    "# Ensure that session cookies are only sent over secure HTTPS connections\n",
    "SESSION_COOKIE_SECURE = True  # Only over HTTPS\n",
    "\n",
    "# Set the session to expire when the browser is closed\n",
    "SESSION_EXPIRE_AT_BROWSER_CLOSE = True\n",
    "\n",
    "# Set session cookie to have a timeout after a certain period (e.g., 30 minutes)\n",
    "SESSION_COOKIE_AGE = 1800  # Time in seconds (30 minutes)\n",
    "\n",
    "# Enforce strong session settings\n",
    "CSRF_COOKIE_SECURE = True  # Secure the CSRF cookie over HTTPS\n"
   ]
  },
  {
   "cell_type": "markdown",
   "metadata": {
    "id": "aKtVietodcWe"
   },
   "source": [
    "2. Cross-Site Scripting (XSS)\n",
    "XSS attacks involve injecting malicious scripts into web pages, which can be executed on the user's browser. Django automatically escapes variables in templates, but it’s important to make sure input is sanitized"
   ]
  },
  {
   "cell_type": "code",
   "execution_count": 28,
   "metadata": {
    "colab": {
     "base_uri": "https://localhost:8080/",
     "height": 110
    },
    "id": "s9OZ-SBudb-5",
    "outputId": "b82eaa29-d83b-4f92-ac0f-b8cb073e28d3"
   },
   "outputs": [
    {
     "ename": "SyntaxError",
     "evalue": "invalid syntax (<ipython-input-28-5adbf6126eb4>, line 1)",
     "output_type": "error",
     "traceback": [
      "\u001b[0;36m  File \u001b[0;32m\"<ipython-input-28-5adbf6126eb4>\"\u001b[0;36m, line \u001b[0;32m1\u001b[0m\n\u001b[0;31m    <!-- Correct way to display user input safely -->\u001b[0m\n\u001b[0m    ^\u001b[0m\n\u001b[0;31mSyntaxError\u001b[0m\u001b[0;31m:\u001b[0m invalid syntax\n"
     ]
    }
   ],
   "source": [
    "<!-- Correct way to display user input safely -->\n",
    "<p>{{ user_input }}</p>\n",
    "\n",
    "<!-- Avoid using |safe unless you are absolutely sure the input is safe -->\n",
    "<!-- For example, if displaying user-generated HTML, sanitize it properly -->\n"
   ]
  },
  {
   "cell_type": "markdown",
   "metadata": {
    "id": "rB8Yvvn5d5lR"
   },
   "source": [
    "3. SQL Injection\n",
    "\n",
    "SQL Injection occurs when an attacker can inject malicious SQL code into a query, manipulating the database. Django's ORM (Object-Relational Mapping) prevents direct SQL injection by using parameterized queries, which automatically sanitize inputs."
   ]
  },
  {
   "cell_type": "code",
   "execution_count": null,
   "metadata": {
    "id": "9YgWghpfeCWZ"
   },
   "outputs": [],
   "source": [
    "# Correct: Using Django's ORM to filter data\n",
    "from .models import Product\n",
    "\n",
    "def get_product_by_name(name):\n",
    "    product = Product.objects.filter(name=name).first()  # Safe from SQL Injection\n",
    "    return product\n"
   ]
  },
  {
   "cell_type": "markdown",
   "metadata": {
    "id": "x02YXJvNeJd-"
   },
   "source": [
    "4. Buffer Overflows\n",
    "\n",
    "While Python does not directly expose memory buffers like lower-level languages, buffer overflows in web applications can happen when large inputs are not properly validated. Therefore, input validation is essential.\n",
    "\n"
   ]
  },
  {
   "cell_type": "code",
   "execution_count": null,
   "metadata": {
    "id": "9LyXEcg4eJGR"
   },
   "outputs": [],
   "source": [
    "from django import forms\n",
    "\n",
    "class ProductForm(forms.Form):\n",
    "    name = forms.CharField(max_length=100)  # Enforces a maximum length for name\n",
    "    description = forms.CharField(max_length=500, required=False)  # Max length for description\n",
    "\n",
    "    # Validate numeric fields\n",
    "    price = forms.DecimalField(min_value=0.01, max_value=10000.00)\n"
   ]
  },
  {
   "cell_type": "markdown",
   "metadata": {
    "id": "W6cAaxC0ePem"
   },
   "source": [
    "5. CSRF (Cross-Site Request Forgery)\n",
    "\n",
    "CSRF is an attack that tricks the user into performing actions on a web application without their knowledge. Django includes CSRF protection by default, but you need to ensure it is enabled and used correctly."
   ]
  },
  {
   "cell_type": "code",
   "execution_count": null,
   "metadata": {
    "id": "qjhlq6l4ePLG"
   },
   "outputs": [],
   "source": [
    "CSRF_COOKIE_SECURE = True  # Secure the CSRF cookie over HTTPS\n",
    "CSRF_COOKIE_HTTPONLY = True  # Ensure the CSRF cookie cannot be accessed via JavaScript\n"
   ]
  },
  {
   "cell_type": "code",
   "execution_count": null,
   "metadata": {
    "id": "vftwH2ZoeXcq"
   },
   "outputs": [],
   "source": [
    "<form method=\"POST\">\n",
    "    {% csrf_token %}\n",
    "    <!-- Form fields go here -->\n",
    "    <button type=\"submit\">Submit</button>\n",
    "</form>\n"
   ]
  }
 ],
 "metadata": {
  "colab": {
   "provenance": []
  },
  "kernelspec": {
   "display_name": "Python 3",
   "name": "python3"
  },
  "language_info": {
   "codemirror_mode": {
    "name": "ipython",
    "version": 3
   },
   "file_extension": ".py",
   "mimetype": "text/x-python",
   "name": "python",
   "nbconvert_exporter": "python",
   "pygments_lexer": "ipython3",
   "version": "3.12.6"
  }
 },
 "nbformat": 4,
 "nbformat_minor": 0
}
